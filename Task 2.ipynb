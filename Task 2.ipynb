{
 "cells": [
  {
   "cell_type": "markdown",
   "metadata": {},
   "source": [
    "Name : Prashant Sanjay Sonar\n",
    "    \n",
    "Employee ID : AIS028\n",
    "\n",
    "Task 2"
   ]
  },
  {
   "cell_type": "markdown",
   "metadata": {},
   "source": [
    "Q1:What is an array?\n",
    "\n",
    "Ans:\n",
    "An array is a data structure that contains a group of elements and these elements are all of \n",
    "the same data type, such as an integer or string.\n",
    "Arrays are commonly used in computer programs to organize data so that a related set of values\n",
    "can be easily sorted or searched.\n",
    "\n",
    "For example, if you want to store 100 integers, you can create an array for it. int data[100]"
   ]
  },
  {
   "cell_type": "markdown",
   "metadata": {},
   "source": [
    "Q2 : What is difference between array and list?\n",
    "\n",
    "Ans:\n",
    "Array : Elements are stored in linear order but accecisable with an index\n",
    "\n",
    "        Array have a fixed sized.\n",
    "        \n",
    "        Array can access previous elements easily\n",
    "        \n",
    "        Arrays are binary search.\n",
    "\n",
    "\n",
    "List : Elements are stored in linear order but accecisable with Links.\n",
    "       \n",
    "       List do not have a fixed size\n",
    "       \n",
    "       List can't be access previous elements directly.\n",
    "       \n",
    "       List are no binary search.\n"
   ]
  },
  {
   "cell_type": "markdown",
   "metadata": {},
   "source": [
    "Q3 : How to change the shape of an array?\n",
    "\n",
    "Ans:\n",
    "The reshape() function is used to give a new shape to an array without changing its data.\n",
    "Array to be reshaped.\n"
   ]
  },
  {
   "cell_type": "code",
   "execution_count": 1,
   "metadata": {},
   "outputs": [
    {
     "data": {
      "text/plain": [
       "array([1, 2, 3, 4, 5, 6])"
      ]
     },
     "metadata": {},
     "output_type": "display_data"
    },
    {
     "data": {
      "text/plain": [
       "array([[1, 2, 3],\n",
       "       [4, 5, 6]])"
      ]
     },
     "metadata": {},
     "output_type": "display_data"
    }
   ],
   "source": [
    "#For ex\n",
    " \n",
    "import numpy as np\n",
    "a=np.arange(1,7)\n",
    "a\n",
    "b=np.reshape(a,(2,3))\n",
    "display(a,b)"
   ]
  },
  {
   "cell_type": "markdown",
   "metadata": {},
   "source": [
    "Q4 : What does the name.strip () do?\n",
    "\n",
    "Ans:\n",
    "The strip() method returns a copy of the string by removing both the leading and the trailing \n",
    "characters (based on the string argument passed). The strip() method removes characters \n",
    "from both left and right based on the argument (a string specifying the set of characters to be removed)."
   ]
  },
  {
   "cell_type": "code",
   "execution_count": 2,
   "metadata": {},
   "outputs": [
    {
     "name": "stdout",
     "output_type": "stream",
     "text": [
      "  n Artificial n  \n",
      "Artificial\n",
      "Artificial\n"
     ]
    }
   ],
   "source": [
    "# For ex. \n",
    "s='  n Artificial n  '\n",
    "print(s.strip('n'))\n",
    "print(s.strip('n '))\n",
    "print(s.strip(' n'))\n",
    "\n"
   ]
  },
  {
   "cell_type": "markdown",
   "metadata": {},
   "source": [
    "Q5 : When we use triple single or triple double quotes to define a string?\n",
    "\n",
    "\n",
    "Ans: \"\"\" With triple quotes, you can print strings on multiple lines to make text, especially lengthy text, easier to read. this case can be used."
   ]
  },
  {
   "cell_type": "markdown",
   "metadata": {},
   "source": [
    "# Coding Exercise:"
   ]
  },
  {
   "cell_type": "code",
   "execution_count": 3,
   "metadata": {},
   "outputs": [
    {
     "data": {
      "text/plain": [
       "chararray([[b'a', b'a', b'a'],\n",
       "           [b'a', b'a', b'a'],\n",
       "           [b'a', b'a', b'a']], dtype='|S1')"
      ]
     },
     "execution_count": 3,
     "metadata": {},
     "output_type": "execute_result"
    }
   ],
   "source": [
    "#Q6 : Create a character type array?\n",
    "\n",
    "#Ans: \n",
    "charar=np.chararray((3,3))\n",
    "charar[:]='a'\n",
    "charar"
   ]
  },
  {
   "cell_type": "code",
   "execution_count": 4,
   "metadata": {},
   "outputs": [
    {
     "name": "stdout",
     "output_type": "stream",
     "text": [
      "Hello\n"
     ]
    },
    {
     "data": {
      "text/plain": [
       "'ll'"
      ]
     },
     "execution_count": 4,
     "metadata": {},
     "output_type": "execute_result"
    }
   ],
   "source": [
    "#Q7 : Create a “hello” string and access the string character \"ll\" in python?\n",
    "\n",
    "#Ans:\n",
    "s1=\"Hello\"\n",
    "print(s1)\n",
    "s1[2:4]"
   ]
  },
  {
   "cell_type": "code",
   "execution_count": 5,
   "metadata": {},
   "outputs": [
    {
     "data": {
      "text/plain": [
       "2"
      ]
     },
     "metadata": {},
     "output_type": "display_data"
    },
    {
     "data": {
      "text/plain": [
       "123"
      ]
     },
     "metadata": {},
     "output_type": "display_data"
    }
   ],
   "source": [
    "#Q8 :Create an array to get largest and smallest number using minimum and maximum function?\n",
    "\n",
    "#Ans:\n",
    "ar1=[34,2,5,6,76,89,123]\n",
    "display(min(ar1),max(ar1))"
   ]
  },
  {
   "cell_type": "code",
   "execution_count": 6,
   "metadata": {},
   "outputs": [
    {
     "data": {
      "text/plain": [
       "'python'"
      ]
     },
     "execution_count": 6,
     "metadata": {},
     "output_type": "execute_result"
    }
   ],
   "source": [
    "#Q9:If name is “core python” then access the \"python\" from name and reverse \"python\" using slicing?\n",
    "\n",
    "#Ans:\n",
    "s1=\"core python\"\n",
    "s2=s1[5:12]\n",
    "s2"
   ]
  },
  {
   "cell_type": "code",
   "execution_count": 7,
   "metadata": {},
   "outputs": [
    {
     "name": "stdout",
     "output_type": "stream",
     "text": [
      "nohtyp\n"
     ]
    }
   ],
   "source": [
    "s2='python'[::-1]\n",
    "print(s2)"
   ]
  },
  {
   "cell_type": "markdown",
   "metadata": {},
   "source": [
    "Q10 : Create an array of integer type and add element 12 using append method and remove one\n",
    "element using remove methods?"
   ]
  },
  {
   "cell_type": "code",
   "execution_count": 8,
   "metadata": {},
   "outputs": [
    {
     "data": {
      "text/plain": [
       "array([ 1,  2,  3,  4,  5,  6, 12])"
      ]
     },
     "execution_count": 8,
     "metadata": {},
     "output_type": "execute_result"
    }
   ],
   "source": [
    "#Ans:\n",
    "#add element using append fun\n",
    "arr1=[1,2,3,4,5,6]\n",
    "np.append(arr1,12)\n"
   ]
  },
  {
   "cell_type": "code",
   "execution_count": 9,
   "metadata": {},
   "outputs": [
    {
     "name": "stdout",
     "output_type": "stream",
     "text": [
      "[2, 3, 4, 5, 6]\n"
     ]
    }
   ],
   "source": [
    "#delete element using remove fun\n",
    "arr1.remove(1)\n",
    "print(arr1)"
   ]
  },
  {
   "cell_type": "code",
   "execution_count": 10,
   "metadata": {},
   "outputs": [
    {
     "data": {
      "text/plain": [
       "array([1, 2, 3, 4, 5])"
      ]
     },
     "metadata": {},
     "output_type": "display_data"
    },
    {
     "data": {
      "text/plain": [
       "array([[[1, 6, 7],\n",
       "        [5, 9, 2],\n",
       "        [4, 4, 7]],\n",
       "\n",
       "       [[7, 5, 1],\n",
       "        [1, 9, 3],\n",
       "        [8, 9, 9]]])"
      ]
     },
     "metadata": {},
     "output_type": "display_data"
    }
   ],
   "source": [
    "#Q11 : Create a single dimensional and 3 dimensional array using numpy?\n",
    "\n",
    "#Ans:\n",
    "array1=np.array([1,2,3,4,5])                  #single dimensional\n",
    "array2=np.random.randint(1,10,(2,3,3))        #3 dimensional\n",
    "display(array1,array2)\n",
    "    "
   ]
  },
  {
   "cell_type": "code",
   "execution_count": 11,
   "metadata": {},
   "outputs": [
    {
     "data": {
      "text/plain": [
       "'PROGRAMIZ'"
      ]
     },
     "execution_count": 11,
     "metadata": {},
     "output_type": "execute_result"
    }
   ],
   "source": [
    "#Q12 :Create a “Programiz” string and convert the string into upper, lower case? \n",
    "#     And replace given string by “program” using replace method?\n",
    "\n",
    "#Ans:\n",
    "a=\"Programiz\"\n",
    "a.upper()"
   ]
  },
  {
   "cell_type": "code",
   "execution_count": 12,
   "metadata": {},
   "outputs": [
    {
     "data": {
      "text/plain": [
       "'programiz'"
      ]
     },
     "execution_count": 12,
     "metadata": {},
     "output_type": "execute_result"
    }
   ],
   "source": [
    "a.lower()"
   ]
  },
  {
   "cell_type": "code",
   "execution_count": 13,
   "metadata": {},
   "outputs": [
    {
     "data": {
      "text/plain": [
       "'program'"
      ]
     },
     "execution_count": 13,
     "metadata": {},
     "output_type": "execute_result"
    }
   ],
   "source": [
    "#replace method\n",
    "a.replace('Programiz','program')"
   ]
  },
  {
   "cell_type": "code",
   "execution_count": 14,
   "metadata": {},
   "outputs": [
    {
     "data": {
      "text/plain": [
       "array([[11, 12, 13],\n",
       "       [14, 15, 16],\n",
       "       [17, 18, 19]])"
      ]
     },
     "metadata": {},
     "output_type": "display_data"
    },
    {
     "data": {
      "text/plain": [
       "array([[1, 2, 3],\n",
       "       [4, 5, 6],\n",
       "       [7, 8, 9]])"
      ]
     },
     "metadata": {},
     "output_type": "display_data"
    }
   ],
   "source": [
    "# Q13 : Create a two array one using linspace and another using arange function and\n",
    "        #then subtract array1 from array 2?\n",
    "\n",
    "#Ans:\n",
    "ar1=np.arange(11,20).reshape(3,3)\n",
    "ar2=np.arange(1,10).reshape(3,3)\n",
    "display(ar1,ar2)"
   ]
  },
  {
   "cell_type": "code",
   "execution_count": 15,
   "metadata": {},
   "outputs": [
    {
     "data": {
      "text/plain": [
       "array([[10, 10, 10],\n",
       "       [10, 10, 10],\n",
       "       [10, 10, 10]])"
      ]
     },
     "execution_count": 15,
     "metadata": {},
     "output_type": "execute_result"
    }
   ],
   "source": [
    "ar1-ar2   # np.subtract(ar1,ar2)"
   ]
  },
  {
   "cell_type": "code",
   "execution_count": 16,
   "metadata": {},
   "outputs": [
    {
     "data": {
      "text/plain": [
       "['happy new year']"
      ]
     },
     "execution_count": 16,
     "metadata": {},
     "output_type": "execute_result"
    }
   ],
   "source": [
    "# Q14 :Create a “happy new year” string and then separate this string by (space) \",”?\n",
    "\n",
    "#Ans:\n",
    "stri1=\"happy new year\"\n",
    "stri1.split(\",\")"
   ]
  },
  {
   "cell_type": "markdown",
   "metadata": {},
   "source": [
    "Q15 : Create two string and check whether one string present in another string using membership operator?"
   ]
  },
  {
   "cell_type": "code",
   "execution_count": 17,
   "metadata": {},
   "outputs": [
    {
     "name": "stdout",
     "output_type": "stream",
     "text": [
      "True\n"
     ]
    }
   ],
   "source": [
    "#Ans:\n",
    "strr1='Hello'\n",
    "strr2='Hello world'\n",
    "print(strr1 in strr2)"
   ]
  },
  {
   "cell_type": "code",
   "execution_count": null,
   "metadata": {},
   "outputs": [],
   "source": []
  }
 ],
 "metadata": {
  "kernelspec": {
   "display_name": "Python 3",
   "language": "python",
   "name": "python3"
  },
  "language_info": {
   "codemirror_mode": {
    "name": "ipython",
    "version": 3
   },
   "file_extension": ".py",
   "mimetype": "text/x-python",
   "name": "python",
   "nbconvert_exporter": "python",
   "pygments_lexer": "ipython3",
   "version": "3.7.6"
  }
 },
 "nbformat": 4,
 "nbformat_minor": 4
}
